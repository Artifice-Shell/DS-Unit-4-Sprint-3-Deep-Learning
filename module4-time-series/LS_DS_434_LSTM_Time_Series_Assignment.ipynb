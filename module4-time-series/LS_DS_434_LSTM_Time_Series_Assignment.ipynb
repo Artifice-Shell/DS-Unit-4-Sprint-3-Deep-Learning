{
  "nbformat": 4,
  "nbformat_minor": 0,
  "metadata": {
    "kernelspec": {
      "display_name": "Python 3",
      "language": "python",
      "name": "python3"
    },
    "language_info": {
      "codemirror_mode": {
        "name": "ipython",
        "version": 3
      },
      "file_extension": ".py",
      "mimetype": "text/x-python",
      "name": "python",
      "nbconvert_exporter": "python",
      "pygments_lexer": "ipython3",
      "version": "3.8.5"
    },
    "colab": {
      "name": "LS_DS_434_LSTM_Time_Series_Assignment.ipynb",
      "provenance": [],
      "include_colab_link": true
    }
  },
  "cells": [
    {
      "cell_type": "markdown",
      "metadata": {
        "id": "view-in-github",
        "colab_type": "text"
      },
      "source": [
        "<a href=\"https://colab.research.google.com/github/ryanleeallred/DS-Unit-4-Sprint-3-Deep-Learning/blob/main/module4-time-series/LS_DS_434_LSTM_Time_Series_Assignment.ipynb\" target=\"_parent\"><img src=\"https://colab.research.google.com/assets/colab-badge.svg\" alt=\"Open In Colab\"/></a>"
      ]
    },
    {
      "cell_type": "markdown",
      "metadata": {
        "id": "escja7w8f-fb"
      },
      "source": [
        "## Time Series Forecasting with LSTMs assignment \n",
        "\n",
        "Take what you learned from the lecture and move all that logic into a class that handels all of your RNN forecasting functionality: data prepping, building a model, training a model, and plotting results. You are encouraged to change what you want and add whatever functionality you want to include in your class, such as gridsearch functionality. "
      ]
    },
    {
      "cell_type": "code",
      "metadata": {
        "id": "D-TiyUuxf-fe"
      },
      "source": [
        "import numpy as np\n",
        "import matplotlib.pyplot as plt\n",
        "import seaborn as sns\n",
        "import pandas as pd\n",
        "from pandas import read_csv\n",
        "import math\n",
        "from keras.models import Sequential\n",
        "from keras.layers import Dense\n",
        "from keras.layers import LSTM\n",
        "from sklearn.preprocessing import MinMaxScaler\n",
        "from sklearn.metrics import mean_squared_error\n",
        "from keras.layers.core import Dense, Activation, Dropout\n",
        "import time #helper libraries\n",
        "from tensorflow.keras import regularizers\n",
        "\n",
        "class forecasting_toolkit(object):\n",
        "    def __init__(self, df = None, model = None):\n",
        "        \"\"\"\n",
        "        Variables that we passed into our functions should now be defined \n",
        "        as class attributes, i.e. class variables. \n",
        "        \"\"\"\n",
        "        # here are a few to get you started \n",
        "        \n",
        "        # store data here\n",
        "        self.df = df\n",
        "        \n",
        "        # store your forecasting model here\n",
        "        self.model = model\n",
        "        \n",
        "        # store feature scalers here\n",
        "        self.scaler_dict = None\n",
        "        \n",
        "        # store the training results of your model here\n",
        "        self.history = None\n",
        "    \n",
        "    def load_transform_data(self):\n",
        "        pass\n",
        "    \n",
        "    def scale_data(self):\n",
        "        pass\n",
        "    \n",
        "    def invert_scaling(self):\n",
        "        pass\n",
        "    \n",
        "    def create_dataset(self):\n",
        "        pass\n",
        "    \n",
        "    def create_train_test_split(self):\n",
        "        pass\n",
        "    \n",
        "    def build_model(self):\n",
        "        pass\n",
        "    \n",
        "    def fit_model(self):\n",
        "        pass\n",
        "    \n",
        "    def predict(self):\n",
        "        pass\n",
        "    \n",
        "    def plot_model_loss_metrics(self):\n",
        "        pass\n",
        "    "
      ],
      "execution_count": null,
      "outputs": []
    },
    {
      "cell_type": "markdown",
      "metadata": {
        "id": "u1JmDnpsf-fg"
      },
      "source": [
        "----"
      ]
    },
    {
      "cell_type": "code",
      "metadata": {
        "id": "j4c6Geg6f-fh"
      },
      "source": [
        "# this is pseudo code - my_custom_scripts doesn't exist yet\n",
        "from my_custom_scripts import forecasting_toolkit"
      ],
      "execution_count": null,
      "outputs": []
    },
    {
      "cell_type": "code",
      "metadata": {
        "id": "PNwtm_gif-fh"
      },
      "source": [
        "# once you've completed your class, you'll be able to perform a many operations with just a few lines of code!\n",
        "tstk = forecasting_toolkit()\n",
        "tstk.load_transform_data()\n",
        "tstk.scale_data()\n",
        "tstk.build_model()\n",
        "tstk.fit_model()\n",
        "tstk.plot_model_loss_metrics()"
      ],
      "execution_count": null,
      "outputs": []
    }
  ]
}